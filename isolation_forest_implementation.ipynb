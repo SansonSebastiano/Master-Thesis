{
 "cells": [
  {
   "cell_type": "markdown",
   "metadata": {},
   "source": [
    "# Data generation"
   ]
  },
  {
   "cell_type": "code",
   "execution_count": 1,
   "metadata": {},
   "outputs": [],
   "source": [
    "import numpy as np\n",
    "from sklearn.model_selection import train_test_split\n",
    "\n",
    "n_samples, n_outliers = 120, 40\n",
    "rng = np.random.RandomState(0)\n",
    "covariance = np.array([[0.5, -0.1], [0.7, 0.4]])\n",
    "cluster_1 = 0.4 * rng.randn(n_samples, 2) @ covariance + np.array([2, 2]) # general\n",
    "cluster_2 = 0.3 * rng.randn(n_samples, 2) + np.array([-2, -2]) # spherical  \n",
    "outliers = rng.uniform(low=-4, high=4, size=(n_outliers, 2))\n",
    "\n",
    "X = np.concatenate([cluster_1, cluster_2, outliers])\n",
    "y = np.concatenate([np.ones((2 * n_samples), dtype = int), np.ones(n_outliers, dtype = int)])\n",
    "\n",
    "X_train, X_test, y_train, y_test = train_test_split(X, y, stratify=y, random_state=42)"
   ]
  },
  {
   "cell_type": "markdown",
   "metadata": {},
   "source": [
    "Data visualization"
   ]
  },
  {
   "cell_type": "code",
   "execution_count": 2,
   "metadata": {},
   "outputs": [
    {
     "name": "stdout",
     "output_type": "stream",
     "text": [
      "Unexpected exception formatting exception. Falling back to standard exception\n"
     ]
    },
    {
     "name": "stderr",
     "output_type": "stream",
     "text": [
      "Traceback (most recent call last):\n",
      "  File \"/Users/sebastianosanson/Documents/Master Thesis/Master-Thesis/mt_venv/lib/python3.12/site-packages/IPython/core/interactiveshell.py\", line 3549, in run_code\n",
      "  File \"/var/folders/ts/jhrtqcqd6xl3s86wsbgd3fdc0000gn/T/ipykernel_15047/1770636206.py\", line 1, in <module>\n",
      "    import matplotlib.pyplot as plt\n",
      "ModuleNotFoundError: No module named 'matplotlib'\n",
      "\n",
      "During handling of the above exception, another exception occurred:\n",
      "\n",
      "Traceback (most recent call last):\n",
      "  File \"/Users/sebastianosanson/Documents/Master Thesis/Master-Thesis/mt_venv/lib/python3.12/site-packages/pygments/styles/__init__.py\", line 45, in get_style_by_name\n",
      "ModuleNotFoundError: No module named 'pygments.styles.default'\n",
      "\n",
      "During handling of the above exception, another exception occurred:\n",
      "\n",
      "Traceback (most recent call last):\n",
      "  File \"/Users/sebastianosanson/Documents/Master Thesis/Master-Thesis/mt_venv/lib/python3.12/site-packages/IPython/core/interactiveshell.py\", line 2173, in showtraceback\n",
      "  File \"/Users/sebastianosanson/Documents/Master Thesis/Master-Thesis/mt_venv/lib/python3.12/site-packages/IPython/core/ultratb.py\", line 1182, in structured_traceback\n",
      "  File \"/Users/sebastianosanson/Documents/Master Thesis/Master-Thesis/mt_venv/lib/python3.12/site-packages/IPython/core/ultratb.py\", line 1053, in structured_traceback\n",
      "  File \"/Users/sebastianosanson/Documents/Master Thesis/Master-Thesis/mt_venv/lib/python3.12/site-packages/IPython/core/ultratb.py\", line 861, in structured_traceback\n",
      "  File \"/Users/sebastianosanson/Documents/Master Thesis/Master-Thesis/mt_venv/lib/python3.12/site-packages/IPython/core/ultratb.py\", line 745, in format_exception_as_a_whole\n",
      "  File \"/Users/sebastianosanson/Documents/Master Thesis/Master-Thesis/mt_venv/lib/python3.12/site-packages/IPython/core/ultratb.py\", line 684, in prepare_header\n",
      "  File \"/Users/sebastianosanson/Documents/Master Thesis/Master-Thesis/mt_venv/lib/python3.12/site-packages/IPython/utils/PyColorize.py\", line 64, in format\n",
      "  File \"/Users/sebastianosanson/Documents/Master Thesis/Master-Thesis/mt_venv/lib/python3.12/site-packages/IPython/utils/PyColorize.py\", line 54, in as_pygments_style\n",
      "  File \"/Users/sebastianosanson/Documents/Master Thesis/Master-Thesis/mt_venv/lib/python3.12/site-packages/pygments/styles/__init__.py\", line 47, in get_style_by_name\n",
      "pygments.util.ClassNotFound: Could not find style module 'pygments.styles.default', though it should be builtin.\n"
     ]
    }
   ],
   "source": [
    "import matplotlib.pyplot as plt\n",
    "\n",
    "scatter = plt.scatter(X[:, 0], X[:, 1], c=y, s=20, edgecolor='k')\n",
    "handles, labels = scatter.legend_elements()\n",
    "plt.axis('square')\n",
    "plt.legend(handles=handles, labels=['outliers', 'inliers'], title='true class')\n",
    "plt.title(\"Gaussian inliers with \\nuniformly distributed outliers\")\n",
    "plt.show"
   ]
  }
 ],
 "metadata": {
  "kernelspec": {
   "display_name": "mt_venv",
   "language": "python",
   "name": "python3"
  },
  "language_info": {
   "codemirror_mode": {
    "name": "ipython",
    "version": 3
   },
   "file_extension": ".py",
   "mimetype": "text/x-python",
   "name": "python",
   "nbconvert_exporter": "python",
   "pygments_lexer": "ipython3",
   "version": "3.12.9"
  }
 },
 "nbformat": 4,
 "nbformat_minor": 2
}
