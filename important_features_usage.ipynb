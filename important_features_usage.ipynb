{
 "cells": [
  {
   "cell_type": "markdown",
   "metadata": {},
   "source": [
    "With this notebook we want to test how many and which of the important features have been exploited by each isolation tree in a given isolation forest."
   ]
  },
  {
   "cell_type": "code",
   "execution_count": null,
   "metadata": {},
   "outputs": [],
   "source": [
    "import os\n",
    "import numpy as np\n",
    "import pickle as pkl \n",
    "import time\n",
    "import matplotlib.pyplot as plt \n",
    "%matplotlib inline\n",
    "from sklearn.ensemble import IsolationForest\n",
    "from sklearn.metrics import precision_score, recall_score, f1_score, average_precision_score\n",
    "from sklearn.utils import shuffle\n",
    "import shap\n",
    "import diffi.interpretability_module as interp\n",
    "from diffi.utils import *"
   ]
  },
  {
   "cell_type": "markdown",
   "metadata": {},
   "source": [
    "## Load dataset"
   ]
  },
  {
   "cell_type": "code",
   "execution_count": null,
   "metadata": {},
   "outputs": [
    {
     "name": "stdout",
     "output_type": "stream",
     "text": [
      "            0          1         2   ...        18        19   20\n",
      "0    20.572482 -18.692509  0.085772  ... -1.560337  1.525849  1.0\n",
      "1     6.177598  -7.607946 -0.628267  ...  0.704625  0.231560  1.0\n",
      "2    -0.546993  18.770789 -0.047290  ... -1.628449  1.110165  1.0\n",
      "3     4.070771  26.910013  1.439008  ... -0.928451 -0.940744  1.0\n",
      "4     1.899771 -14.427159  0.217925  ... -0.580373 -0.430067  1.0\n",
      "..         ...        ...       ...  ...       ...       ...  ...\n",
      "195 -10.551424  -4.695421  0.201173  ...  0.074861  1.641295  1.0\n",
      "196 -19.184522 -21.787665  0.724271  ...  0.762679  0.640181  1.0\n",
      "197  10.064374   3.716596  0.070318  ... -1.917364 -0.511485  1.0\n",
      "198   7.943229 -12.363859 -1.107084  ... -0.868180 -1.192920  1.0\n",
      "199  -1.318154 -12.943001 -0.854508  ...  1.038280  0.291568  1.0\n",
      "\n",
      "[200 rows x 21 columns]\n"
     ]
    }
   ],
   "source": [
    "with open(os.path.join(os.getcwd(), 'dataset', 'syn_train.pkl'), 'rb') as f:\n",
    "    data_tr = pkl.load(f)\n",
    "with open(os.path.join(os.getcwd(), 'dataset', 'syn_test.pkl'), 'rb') as f:\n",
    "    data_te = pkl.load(f)"
   ]
  }
 ],
 "metadata": {
  "kernelspec": {
   "display_name": "mt_env",
   "language": "python",
   "name": "python3"
  },
  "language_info": {
   "codemirror_mode": {
    "name": "ipython",
    "version": 3
   },
   "file_extension": ".py",
   "mimetype": "text/x-python",
   "name": "python",
   "nbconvert_exporter": "python",
   "pygments_lexer": "ipython3",
   "version": "3.12.9"
  }
 },
 "nbformat": 4,
 "nbformat_minor": 2
}
